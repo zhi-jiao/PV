{
 "cells": [
  {
   "cell_type": "code",
   "execution_count": 2,
   "metadata": {},
   "outputs": [],
   "source": [
    "import torch\n",
    "from torch import nn\n",
    "from torchdiffeq import odeint"
   ]
  },
  {
   "cell_type": "code",
   "execution_count": 3,
   "metadata": {},
   "outputs": [],
   "source": [
    "class LSTM_Model(nn.Module):\n",
    "    def __init__(self, input_size=1, hidden_layer_size=100, future_steps=2):\n",
    "        \"\"\"\n",
    "        Initialize the LSTM model.\n",
    "        \n",
    "        Args:\n",
    "            input_size (int): Number of input features per time step.\n",
    "            hidden_layer_size (int): Size of the LSTM hidden layer.\n",
    "            future_steps (int): Number of future steps to predict.\n",
    "        \"\"\"\n",
    "        super(LSTM_Model, self).__init__()\n",
    "        self.hidden_layer_size = hidden_layer_size\n",
    "        self.future_steps = future_steps\n",
    "\n",
    "        # Define the LSTM layer\n",
    "        self.lstm = nn.LSTM(input_size, hidden_layer_size, batch_first=True)\n",
    "\n",
    "        # Define a fully connected layer to map from hidden state space to output space\n",
    "        self.linear = nn.Linear(hidden_layer_size, future_steps)\n",
    "\n",
    "    def forward(self, input_seq):\n",
    "        \"\"\"\n",
    "        Forward pass through the network.\n",
    "        \n",
    "        Args:\n",
    "            input_seq (Tensor): Input batch of sequences; shape should be (batch, seq_len, input_size).\n",
    "            \n",
    "        Returns:\n",
    "            Tensor: The network's output with shape (batch, future_steps).\n",
    "        \"\"\"\n",
    "        # Passing in the input into the model and obtaining outputs\n",
    "        lstm_out, _ = self.lstm(input_seq)\n",
    "\n",
    "        # Take the outputs of the last time step\n",
    "        last_time_step_out = lstm_out[:, -1, :]\n",
    "        print(last_time_step_out.shape)\n",
    "        # Map the outputs of the last time step to the future steps\n",
    "        future_predictions = self.linear(last_time_step_out)\n",
    "\n",
    "        return future_predictions\n",
    "\n"
   ]
  },
  {
   "cell_type": "code",
   "execution_count": 4,
   "metadata": {},
   "outputs": [],
   "source": [
    "class ODEFunc(nn.Module):\n",
    "    def __init__(self, input_size, hidden_size):\n",
    "        super(ODEFunc, self).__init__()\n",
    "        self.net = nn.Sequential(\n",
    "            nn.Linear(input_size, hidden_size),\n",
    "            nn.Tanh(),\n",
    "            nn.Linear(hidden_size, input_size),\n",
    "        )\n",
    "        # 应用Xavier初始化\n",
    "        self.apply(self.init_weights)\n",
    "\n",
    "    def forward(self, t, y):\n",
    "        return self.net(y)\n",
    "\n",
    "    @staticmethod\n",
    "    def init_weights(m):\n",
    "        if type(m) == nn.Linear:\n",
    "            torch.nn.init.xavier_uniform_(m.weight)\n",
    "            m.bias.data.fill_(0.01)\n",
    "\n",
    "class ODEBlock(nn.Module):\n",
    "    def __init__(self, ode_func):\n",
    "        super(ODEBlock, self).__init__()\n",
    "        self.ode_func = ode_func\n",
    "\n",
    "    def forward(self, x):\n",
    "        t = torch.linspace(0., 1., 10)\n",
    "        out = odeint(self.ode_func, x, t, method='dopri5')[-1]\n",
    "        return out\n",
    "\n",
    "class LSTM_ODE(nn.Module):\n",
    "    def __init__(self, input_size=6, hidden_size=32, future_steps=1):\n",
    "        super(LSTM_ODE, self).__init__()\n",
    "\n",
    "        self.lstm = nn.LSTM(input_size, hidden_size, batch_first=True)\n",
    "        self.odefunc = ODEFunc(hidden_size, hidden_size*2)\n",
    "        self.linear = nn.Linear(hidden_size, future_steps)\n",
    "        \n",
    "        self.odeblock = ODEBlock(self.odefunc)\n",
    "\n",
    "        # 应用Xavier初始化\n",
    "        self.apply(self.init_weights)\n",
    "\n",
    "    def forward(self, x):\n",
    "        lstm_out, _ = self.lstm(x)\n",
    "        last_time_step_out = lstm_out[:, -1, :]\n",
    "        ode_output = self.odeblock(last_time_step_out)\n",
    "        pred = self.linear(ode_output)\n",
    "        \n",
    "        return pred\n",
    "\n",
    "    @staticmethod\n",
    "    def init_weights(m):\n",
    "        if type(m) == nn.Linear:\n",
    "            torch.nn.init.xavier_uniform_(m.weight)\n",
    "            m.bias.data.fill_(0.01)\n",
    "        elif type(m) == nn.LSTM:\n",
    "            for param in m._flat_weights_names:\n",
    "                if \"weight_ih\" in param:\n",
    "                    torch.nn.init.xavier_uniform_(m._parameters[param])\n",
    "                elif \"weight_hh\" in param:\n",
    "                    torch.nn.init.xavier_uniform_(m._parameters[param])\n",
    "                elif \"bias\" in param:\n",
    "                    m._parameters[param].data.fill_(0.01)"
   ]
  },
  {
   "cell_type": "code",
   "execution_count": 5,
   "metadata": {},
   "outputs": [
    {
     "ename": "NameError",
     "evalue": "name 'a' is not defined",
     "output_type": "error",
     "traceback": [
      "\u001b[1;31m---------------------------------------------------------------------------\u001b[0m",
      "\u001b[1;31mNameError\u001b[0m                                 Traceback (most recent call last)",
      "Cell \u001b[1;32mIn[5], line 1\u001b[0m\n\u001b[1;32m----> 1\u001b[0m \u001b[43ma\u001b[49m\n",
      "\u001b[1;31mNameError\u001b[0m: name 'a' is not defined"
     ]
    }
   ],
   "source": [
    "a"
   ]
  },
  {
   "cell_type": "code",
   "execution_count": 6,
   "metadata": {},
   "outputs": [],
   "source": [
    "a = torch.rand(128,6,1)"
   ]
  },
  {
   "cell_type": "code",
   "execution_count": 7,
   "metadata": {},
   "outputs": [],
   "source": [
    "model = LSTM_ODE(1,32,1)"
   ]
  },
  {
   "cell_type": "code",
   "execution_count": 8,
   "metadata": {},
   "outputs": [
    {
     "data": {
      "text/plain": [
       "torch.Size([128, 1])"
      ]
     },
     "execution_count": 8,
     "metadata": {},
     "output_type": "execute_result"
    }
   ],
   "source": [
    "model(a).shape"
   ]
  },
  {
   "cell_type": "code",
   "execution_count": null,
   "metadata": {},
   "outputs": [],
   "source": []
  },
  {
   "cell_type": "code",
   "execution_count": null,
   "metadata": {},
   "outputs": [],
   "source": []
  }
 ],
 "metadata": {
  "kernelspec": {
   "display_name": "pytorch",
   "language": "python",
   "name": "python3"
  },
  "language_info": {
   "codemirror_mode": {
    "name": "ipython",
    "version": 3
   },
   "file_extension": ".py",
   "mimetype": "text/x-python",
   "name": "python",
   "nbconvert_exporter": "python",
   "pygments_lexer": "ipython3",
   "version": "3.8.0"
  }
 },
 "nbformat": 4,
 "nbformat_minor": 2
}
